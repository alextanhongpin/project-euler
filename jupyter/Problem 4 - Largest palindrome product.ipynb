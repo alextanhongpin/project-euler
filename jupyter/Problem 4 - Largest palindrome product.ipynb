{
 "cells": [
  {
   "cell_type": "markdown",
   "metadata": {},
   "source": [
    "# Largest palindrome product\n",
    "## Problem 4\n",
    "\n",
    "A palindromic number reads the same both ways. The largest palindrome made from the product of two 2-digit numbers is 9009 = 91 × 99.\n",
    "Find the largest palindrome made from the product of two 3-digit numbers."
   ]
  },
  {
   "cell_type": "code",
   "execution_count": 105,
   "metadata": {
    "collapsed": false
   },
   "outputs": [
    {
     "name": "stdout",
     "output_type": "stream",
     "text": [
      "Max Result: 906609\n"
     ]
    }
   ],
   "source": [
    "def largest_palindrome(number):\n",
    "    arr = []\n",
    "    for i in range(number, 100, -1):\n",
    "        for j in range(number, 100, -1):\n",
    "            product = i * j\n",
    "            start = str(i * j)\n",
    "            end = str(i * j)\n",
    "            if start[::-1] == end:\n",
    "              arr.append(product)\n",
    "    return arr\n",
    "\n",
    "result = largest_palindrome(1000)\n",
    "result.sort()\n",
    "print(\"Max Result:\", result[len(result) - 1])"
   ]
  }
 ],
 "metadata": {
  "kernelspec": {
   "display_name": "Python 3",
   "language": "python",
   "name": "python3"
  },
  "language_info": {
   "codemirror_mode": {
    "name": "ipython",
    "version": 3
   },
   "file_extension": ".py",
   "mimetype": "text/x-python",
   "name": "python",
   "nbconvert_exporter": "python",
   "pygments_lexer": "ipython3",
   "version": "3.5.2"
  }
 },
 "nbformat": 4,
 "nbformat_minor": 2
}
