{
 "cells": [
  {
   "cell_type": "markdown",
   "metadata": {},
   "source": [
    "# Problem 586\n",
    "\n",
    "The number 209 can be expressed as $a^2 + 3\\cdot a \\cdot b + b^2$ in two distinct ways:\n",
    "\n",
    "\\begin{equation}\n",
    "209 = 8^2 + 3\\cdot 8 \\cdot 5 + 5^2\n",
    "\\end{equation}\n",
    "\n",
    "$$\n",
    "209 = 13^2 + 3 ⋅ 13 ⋅ 1 + 1^2\n",
    "$$\n",
    "\n",
    "Let f(n,r) be the number of integers k not exceeding nn that can be expressed as k=a2+3ab+b2, with a>b>0 integers, in exactly r different ways.\n",
    "\n",
    "You are given that f(105,4)=237 and f(108,6)=59517.\n",
    "\n",
    "Find f(10^15,40)."
   ]
  },
  {
   "cell_type": "code",
   "execution_count": null,
   "metadata": {
    "collapsed": false
   },
   "outputs": [],
   "source": [
    "import math\n",
    "\n",
    "s = set()\n",
    "number = 209\n",
    "\n",
    "def getPossibility (value):\n",
    "    lowest = math.floor(math.sqrt(value))\n",
    "    for a in range (1, lowest + 1):\n",
    "        for b in range (1, lowest + 1):\n",
    "            if a**2 + b**2 + 3*a*b == number:\n",
    "                if a not in s and b not in s:\n",
    "                    s.add(a)\n",
    "                    s.add(b)\n",
    "    return int(len(s) / 2)\n",
    "# print(getPossibility(number))\n",
    "\n",
    "n = set()\n",
    "for i in range(10**5):\n",
    "    print(\"Index\", i)\n",
    "    if getPossibility(i) == 4:\n",
    "        n.add(i)\n",
    "print(n, len(n))"
   ]
  }
 ],
 "metadata": {
  "kernelspec": {
   "display_name": "Python 3",
   "language": "python",
   "name": "python3"
  },
  "language_info": {
   "codemirror_mode": {
    "name": "ipython",
    "version": 3
   },
   "file_extension": ".py",
   "mimetype": "text/x-python",
   "name": "python",
   "nbconvert_exporter": "python",
   "pygments_lexer": "ipython3",
   "version": "3.5.2"
  }
 },
 "nbformat": 4,
 "nbformat_minor": 2
}
