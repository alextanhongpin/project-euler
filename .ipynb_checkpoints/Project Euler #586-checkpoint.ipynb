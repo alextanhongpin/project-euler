{
 "cells": [
  {
   "cell_type": "code",
   "execution_count": null,
   "metadata": {
    "collapsed": true
   },
   "outputs": [],
   "source": [
    "#Prob 586\n",
    "\n",
    "# The number 209 can be expressed as a2 + 3ab + b2 in two distinct ways:\n",
    "\n",
    "# 209 = 8**2 + 3⋅8⋅5 + 5**2\n",
    "# 209 = 13**2 + 3⋅13⋅1 + 1**2\n",
    "\n",
    "# Let f(n,r) be the number of integers k \n",
    "# not exceeding n \n",
    "# that can be expressed as k = a2 + 3ab + b2, with a>b>0 integers, \n",
    "# in exactly r different ways\n",
    "\n",
    "# You are given that f(10**5,4)=237 and f(10**8,6)=59517\n",
    "# Find f(10**15,40)"
   ]
  },
  {
   "cell_type": "code",
   "execution_count": null,
   "metadata": {
    "collapsed": true
   },
   "outputs": [],
   "source": [
    "\"\"\"\n",
    "12331 has 4 distinct ways, same goes to 12331*10**2 and 12331*10**4\n",
    "12331 not exceeding 10**5, 12331*10**2 not exceeding 10**7 and 12331*10**4 not exceeding 10**9\n",
    "\"\"\""
   ]
  },
  {
   "cell_type": "code",
   "execution_count": null,
   "metadata": {
    "collapsed": true
   },
   "outputs": [],
   "source": [
    "\"\"\"\n",
    "- http://artofproblemsolving.com/wiki/index.php/Diophantine_equation\n",
    "- narrowing down the search space\n",
    "- parallel programming or multiprocessing\n",
    "- memoization\n",
    "\"\"\""
   ]
  },
  {
   "cell_type": "code",
   "execution_count": 1,
   "metadata": {
    "collapsed": true
   },
   "outputs": [],
   "source": [
    "import numpy as np\n",
    "import time"
   ]
  },
  {
   "cell_type": "code",
   "execution_count": 2,
   "metadata": {
    "collapsed": false
   },
   "outputs": [
    {
     "name": "stdout",
     "output_type": "stream",
     "text": [
      "23.9369896849 minutes\n",
      "237\n"
     ]
    }
   ],
   "source": [
    "# just trying the code on f(10**5,4)=237\n",
    "\n",
    "n = 10**5\n",
    "sqrtn = int(np.sqrt(n))\n",
    "cnt = 0\n",
    "\n",
    "t0 = time.time()\n",
    "for k in range(1,n+1):\n",
    "    r = 0\n",
    "    for a in range(2, sqrtn):\n",
    "        for b in range(1, a):\n",
    "#             if (a + b)**2 == k - a*b:\n",
    "            if a**2 + 3*a*b + b**2 == k:\n",
    "                r += 1\n",
    "    if r == 4:\n",
    "        cnt += 1\n",
    "t1 = time.time()\n",
    "\n",
    "print (t1-t0)/60, 'minutes'\n",
    "print cnt"
   ]
  }
 ],
 "metadata": {
  "anaconda-cloud": {},
  "kernelspec": {
   "display_name": "Python 3",
   "language": "python",
   "name": "python3"
  },
  "language_info": {
   "codemirror_mode": {
    "name": "ipython",
    "version": 3
   },
   "file_extension": ".py",
   "mimetype": "text/x-python",
   "name": "python",
   "nbconvert_exporter": "python",
   "pygments_lexer": "ipython3",
   "version": "3.5.2"
  }
 },
 "nbformat": 4,
 "nbformat_minor": 2
}
