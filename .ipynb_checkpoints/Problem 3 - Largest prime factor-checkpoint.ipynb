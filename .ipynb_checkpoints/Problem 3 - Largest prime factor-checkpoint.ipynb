{
 "cells": [
  {
   "cell_type": "markdown",
   "metadata": {},
   "source": [
    "# Largest prime factor\n",
    "\n",
    "## Problem 3\n",
    "\n",
    "The prime factors of 13195 are 5, 7, 13 and 29.\n",
    "\n",
    "What is the largest prime factor of the number 600851475143 ?"
   ]
  },
  {
   "cell_type": "code",
   "execution_count": 211,
   "metadata": {
    "collapsed": false
   },
   "outputs": [
    {
     "name": "stdout",
     "output_type": "stream",
     "text": [
      "Max 29 [5, 7, 13, 29]\n"
     ]
    }
   ],
   "source": [
    "\n",
    "input = 13195\n",
    "arr = []\n",
    "prime_numbers = []\n",
    "\n",
    "for i in range(2, input + 1):\n",
    "    if input % i is 0:\n",
    "        possible_division = []\n",
    "        concat_possible = prime_numbers + [i]\n",
    "        for j in range(len(concat_possible)):\n",
    "            if i % concat_possible[j] is 0:\n",
    "                possible_division.append(concat_possible[j])\n",
    "        if len(possible_division) is 1:\n",
    "            arr.append(i)\n",
    "            prime_numbers.append(i)\n",
    "\n",
    "print('Max', max(arr), arr)\n"
   ]
  },
  {
   "cell_type": "code",
   "execution_count": null,
   "metadata": {
    "collapsed": false
   },
   "outputs": [],
   "source": [
    "import math\n",
    "input = 600851475143\n",
    "\n",
    "\n",
    "def is_prime(n):\n",
    "    if n <= 1:\n",
    "        return False\n",
    "    elif n == 2:\n",
    "        return True\n",
    "    elif n == 3:\n",
    "        return True\n",
    "    else:\n",
    "        r = math.ceil(math.sqrt(n))\n",
    "        for i in range(2, r + 1):\n",
    "            if n % i is 0:\n",
    "                return False\n",
    "        return True\n",
    "\n",
    "for i in range(2, input + 1):\n",
    "    if is_prime(i):\n",
    "        if input % i == 0:\n",
    "            print(i)"
   ]
  }
 ],
 "metadata": {
  "kernelspec": {
   "display_name": "Python 3",
   "language": "python",
   "name": "python3"
  },
  "language_info": {
   "codemirror_mode": {
    "name": "ipython",
    "version": 3
   },
   "file_extension": ".py",
   "mimetype": "text/x-python",
   "name": "python",
   "nbconvert_exporter": "python",
   "pygments_lexer": "ipython3",
   "version": "3.5.2"
  }
 },
 "nbformat": 4,
 "nbformat_minor": 2
}
