{
 "cells": [
  {
   "cell_type": "code",
   "execution_count": null,
   "metadata": {
    "collapsed": true
   },
   "outputs": [],
   "source": [
    "#Prob 586\n",
    "\n",
    "# The number 209 can be expressed as a2 + 3ab + b2 in two distinct ways:\n",
    "\n",
    "# 209 = 8**2 + 3⋅8⋅5 + 5**2\n",
    "# 209 = 13**2 + 3⋅13⋅1 + 1**2\n",
    "\n",
    "# Let f(n,r) be the number of integers k \n",
    "# not exceeding n \n",
    "# that can be expressed as k = a2 + 3ab + b2, with a>b>0 integers, \n",
    "# in exactly r different ways\n",
    "\n",
    "# You are given that f(10**5,4)=237 and f(10**8,6)=59517\n",
    "# Find f(10**15,40)"
   ]
  },
  {
   "cell_type": "code",
   "execution_count": null,
   "metadata": {
    "collapsed": true
   },
   "outputs": [],
   "source": [
    "\"\"\"\n",
    "12331 has 4 distinct ways, same goes to 12331*10**2 and 12331*10**4\n",
    "12331 not exceeding 10**5, 12331*10**2 not exceeding 10**7 and 12331*10**4 not exceeding 10**9\n",
    "\"\"\""
   ]
  },
  {
   "cell_type": "code",
   "execution_count": null,
   "metadata": {
    "collapsed": true
   },
   "outputs": [],
   "source": [
    "\"\"\"\n",
    "- http://artofproblemsolving.com/wiki/index.php/Diophantine_equation\n",
    "- narrowing down the search space\n",
    "- parallel programming or multiprocessing\n",
    "- memoization\n",
    "\"\"\""
   ]
  },
  {
   "cell_type": "code",
   "execution_count": 1,
   "metadata": {
    "collapsed": true
   },
   "outputs": [],
   "source": [
    "import numpy as np\n",
    "import time"
   ]
  },
  {
   "cell_type": "code",
   "execution_count": 1,
   "metadata": {
    "collapsed": false
   },
   "outputs": [
    {
     "ename": "ImportError",
     "evalue": "No module named 'numpy'",
     "output_type": "error",
     "traceback": [
      "\u001b[0;31m---------------------------------------------------------------------------\u001b[0m",
      "\u001b[0;31mImportError\u001b[0m                               Traceback (most recent call last)",
      "\u001b[0;32m<ipython-input-1-0026f8ab1a65>\u001b[0m in \u001b[0;36m<module>\u001b[0;34m()\u001b[0m\n\u001b[0;32m----> 1\u001b[0;31m \u001b[0;32mimport\u001b[0m \u001b[0mnumpy\u001b[0m \u001b[0;32mas\u001b[0m \u001b[0mnp\u001b[0m\u001b[0;34m\u001b[0m\u001b[0m\n\u001b[0m\u001b[1;32m      2\u001b[0m \u001b[0;32mimport\u001b[0m \u001b[0mtime\u001b[0m\u001b[0;34m\u001b[0m\u001b[0m\n\u001b[1;32m      3\u001b[0m \u001b[0;31m# just trying the code on f(10**5,4)=237\u001b[0m\u001b[0;34m\u001b[0m\u001b[0;34m\u001b[0m\u001b[0m\n\u001b[1;32m      4\u001b[0m \u001b[0;34m\u001b[0m\u001b[0m\n\u001b[1;32m      5\u001b[0m \u001b[0mn\u001b[0m \u001b[0;34m=\u001b[0m \u001b[0;36m10\u001b[0m\u001b[0;34m**\u001b[0m\u001b[0;36m5\u001b[0m\u001b[0;34m\u001b[0m\u001b[0m\n",
      "\u001b[0;31mImportError\u001b[0m: No module named 'numpy'"
     ]
    }
   ],
   "source": [
    "import numpy as np\n",
    "import time\n",
    "# just trying the code on f(10**5,4)=237\n",
    "\n",
    "n = 10**5\n",
    "sqrtn = int(np.sqrt(n))\n",
    "cnt = 0\n",
    "\n",
    "t0 = time.time()\n",
    "for k in range(1,n+1):\n",
    "    r = 0\n",
    "    for a in range(2, sqrtn):\n",
    "        for b in range(1, a):\n",
    "#             if (a + b)**2 == k - a*b:\n",
    "            if a**2 + 3*a*b + b**2 == k:\n",
    "                r += 1\n",
    "    if r == 4:\n",
    "        cnt += 1\n",
    "t1 = time.time()\n",
    "\n",
    "print((t1-t0)/60, 'minutes')\n",
    "print(cnt)"
   ]
  }
 ],
 "metadata": {
  "anaconda-cloud": {},
  "kernelspec": {
   "display_name": "Python 3",
   "language": "python",
   "name": "python3"
  }
 },
 "nbformat": 4,
 "nbformat_minor": 2
}
